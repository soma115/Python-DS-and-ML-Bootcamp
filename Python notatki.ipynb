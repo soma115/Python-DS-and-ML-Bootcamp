{
 "cells": [
  {
   "cell_type": "code",
   "execution_count": null,
   "metadata": {
    "collapsed": true
   },
   "outputs": [],
   "source": [
    "# Mutable default arguments of a function are persistent\n",
    "# tuple unpacking creates list\n",
    "# tablica - dół / bok\n",
    "x[1:2]=[]    # usuwa slice\n",
    "x[1]=[]      # zastępuje element"
   ]
  },
  {
   "cell_type": "code",
   "execution_count": 8,
   "metadata": {
    "collapsed": false
   },
   "outputs": [
    {
     "name": "stdout",
     "output_type": "stream",
     "text": [
      "234\n",
      "23\n"
     ]
    }
   ],
   "source": [
    "t='12345'\n",
    "print(t[1:-1])\n",
    "print(t[1:-2])"
   ]
  },
  {
   "cell_type": "code",
   "execution_count": null,
   "metadata": {
    "collapsed": false
   },
   "outputs": [],
   "source": [
    "def func(x=[1], y=[99]):\n",
    "    x[0], y[0] = y[0], x[0]\n",
    "    print(x,y)\n",
    "\n",
    "for i in range(4):\n",
    "    func()"
   ]
  },
  {
   "cell_type": "code",
   "execution_count": null,
   "metadata": {
    "collapsed": false
   },
   "outputs": [],
   "source": [
    "for i in range(4):\n",
    "    print(i)"
   ]
  },
  {
   "cell_type": "code",
   "execution_count": null,
   "metadata": {
    "collapsed": false
   },
   "outputs": [],
   "source": [
    "import copy\n",
    "a=[1]\n",
    "b=[0,a]\n",
    "c=copy.deepcopy(b)\n",
    "\n",
    "print(c is b)\n",
    "print(a is b[1] is c[1])\n",
    "\n",
    "a[0] = 'X'\n",
    "c[1][0] = 'Y'\n",
    "\n",
    "print(b)\n",
    "print(c)"
   ]
  },
  {
   "cell_type": "code",
   "execution_count": null,
   "metadata": {
    "collapsed": true
   },
   "outputs": [],
   "source": [
    "x=[[0]]*3   # tworzy referencja a nie kopie\n",
    "            # tworzy 3 wiersze czyli:\n",
    "                                        [[0], \n",
    "                                         [0], \n",
    "                                         [0]]\n",
    "print(x)\n",
    "x[2][0]=1  # wiersz / kolumna\n",
    "print(x)\n",
    "\n",
    "z=[[1],\n",
    "   [2],\n",
    "   [3]]\n",
    "print(z[2][0])  # dół / bok"
   ]
  },
  {
   "cell_type": "markdown",
   "metadata": {},
   "source": [
    "# enumerate:"
   ]
  },
  {
   "cell_type": "code",
   "execution_count": null,
   "metadata": {
    "collapsed": true
   },
   "outputs": [],
   "source": [
    "x=['a','b','c','d']\n",
    "y=[i for i in enumerate(x)]\n",
    "print(y)\n",
    "z=list(enumerate(x))  # equivalent\n",
    "print(z)"
   ]
  },
  {
   "cell_type": "code",
   "execution_count": 20,
   "metadata": {
    "collapsed": false
   },
   "outputs": [
    {
     "name": "stdout",
     "output_type": "stream",
     "text": [
      "0 t; 1 o; 2  ; 3 j; 4 e; 5 s; 6 t; "
     ]
    }
   ],
   "source": [
    "a='''to jest'''\n",
    "for i,j in enumerate(a):\n",
    "    print(i,j, end='; ')"
   ]
  },
  {
   "cell_type": "code",
   "execution_count": null,
   "metadata": {
    "collapsed": true
   },
   "outputs": [],
   "source": [
    "x=[]\n",
    "x[0]=1  # IndexError: list assignment index out of range\n",
    "        # Nie można przypisać do pustej listy (ale można zrobić append i extend)\n",
    "x.append(1)\n",
    "print(x)"
   ]
  },
  {
   "cell_type": "code",
   "execution_count": null,
   "metadata": {
    "collapsed": true
   },
   "outputs": [],
   "source": [
    "x=[1,2,3,4,5,6,7,8,9,10,11,12]\n",
    "[i for i in x if ~i%2]"
   ]
  },
  {
   "cell_type": "code",
   "execution_count": null,
   "metadata": {
    "collapsed": true
   },
   "outputs": [],
   "source": [
    "for i in range(0,1): \n",
    "    print(i)\n",
    "for i in range(-1,1):\n",
    "    print(i)"
   ]
  },
  {
   "cell_type": "code",
   "execution_count": null,
   "metadata": {
    "collapsed": true
   },
   "outputs": [],
   "source": [
    "-5//2"
   ]
  },
  {
   "cell_type": "code",
   "execution_count": 21,
   "metadata": {
    "collapsed": false
   },
   "outputs": [
    {
     "name": "stdout",
     "output_type": "stream",
     "text": [
      "[0, 2, 3]\n",
      "[0, [], 2, 3]\n"
     ]
    }
   ],
   "source": [
    "x=[0,1,2,3]\n",
    "x[1:2]=[]    # usuwa\n",
    "print(x)\n",
    "\n",
    "x=[0,1,2,3]\n",
    "x[1]=[]      # zastępuje\n",
    "print(x)"
   ]
  },
  {
   "cell_type": "code",
   "execution_count": null,
   "metadata": {
    "collapsed": true
   },
   "outputs": [],
   "source": [
    "x=[0,1,2,3]\n",
    "print('A:',x[::2])\n",
    "# x[::2]=[]  # ValueError: attempt to assign sequence of size 0 to extended slice of size 2\n",
    "# ale\n",
    "y = [9,9]\n",
    "x[::2] = y  # a odwrotnie można dopóki rozmiar jest ten sam\n",
    "# y = x[::2] # tak też jest ok\n",
    "print(x)"
   ]
  },
  {
   "cell_type": "code",
   "execution_count": null,
   "metadata": {
    "collapsed": true
   },
   "outputs": [],
   "source": [
    "print('a' 'b' 'c'*2)"
   ]
  },
  {
   "cell_type": "code",
   "execution_count": null,
   "metadata": {
    "collapsed": true
   },
   "outputs": [],
   "source": [
    "x=[1,2]\n",
    "x.append([3,4])\n",
    "print('append:', x)\n",
    "\n",
    "y=[1,2]\n",
    "y.extend([3,4])\n",
    "print('extend:', y)\n",
    "\n",
    "x=[1,2]\n",
    "x.extend(3) # must be iterable\n",
    "print('extend:', x)"
   ]
  },
  {
   "cell_type": "code",
   "execution_count": null,
   "metadata": {
    "collapsed": true
   },
   "outputs": [],
   "source": [
    "[1,2,3,4][::-1][::-1][::-1]"
   ]
  },
  {
   "cell_type": "markdown",
   "metadata": {},
   "source": [
    "# Comprehension:"
   ]
  },
  {
   "cell_type": "code",
   "execution_count": 5,
   "metadata": {
    "collapsed": false
   },
   "outputs": [
    {
     "name": "stdout",
     "output_type": "stream",
     "text": [
      "[0, 1, 2, 3, 4]\n",
      "(0, 1, 4, 9)\n",
      "dict-num-key:\t {0: 'a', 1: 'b', 2: 'c'}\n",
      "dict-alpha-key:\t {'a': 0, 'b': 1, 'c': 2}\n"
     ]
    },
    {
     "data": {
      "text/plain": [
       "'Co'"
      ]
     },
     "execution_count": 5,
     "metadata": {},
     "output_type": "execute_result"
    }
   ],
   "source": [
    "data = [x for x in range(5)]    # list\n",
    "print(data)\n",
    "\n",
    "data = tuple(i**2 for i in range(4))    # tuple\n",
    "print(data)\n",
    "\n",
    "data = {x:'abc'[x] for x in range(3)}    # dictionary\n",
    "print('dict-num-key:\\t', data)\n",
    "data = {'abc'[x]:x for x in range(3)}\n",
    "print('dict-alpha-key:\\t', data)\n",
    "\n",
    "seq = [1,2,3,4,5]\n",
    "list(map(lambda x:x*2, seq))\n",
    "\n",
    "list(filter(lambda num: num%2 == 0, seq))\n",
    "\n",
    "seq = ['soup','dog','salad','cat','great']\n",
    "list(filter(lambda x:x[0] == 's', seq))\n",
    "\n",
    "s = 'Co myślisz o demokracji?'\n",
    "s.split(' ',1)[0]"
   ]
  },
  {
   "cell_type": "code",
   "execution_count": 6,
   "metadata": {
    "collapsed": false
   },
   "outputs": [
    {
     "name": "stdout",
     "output_type": "stream",
     "text": [
      "<class 'str'>\n",
      "b\n"
     ]
    }
   ],
   "source": [
    "print(type('abc'[1]))\n",
    "print('abc'[1])"
   ]
  },
  {
   "cell_type": "code",
   "execution_count": null,
   "metadata": {
    "collapsed": true
   },
   "outputs": [],
   "source": [
    "num = 12; name = 'Jan'\n",
    "print('numer {x} i imię {y} a liczba {x}'.format(x=num, y=name))"
   ]
  },
  {
   "cell_type": "code",
   "execution_count": null,
   "metadata": {
    "collapsed": true
   },
   "outputs": [],
   "source": [
    "s='abcdef'\n",
    "print(s[-1])\n",
    "print(s[:3])"
   ]
  },
  {
   "cell_type": "code",
   "execution_count": null,
   "metadata": {
    "collapsed": true
   },
   "outputs": [],
   "source": [
    "l = [1,2,['a',['napis']]]\n",
    "print(l[2][1])\n",
    "print(l[2][1][0])"
   ]
  },
  {
   "cell_type": "code",
   "execution_count": null,
   "metadata": {
    "collapsed": true
   },
   "outputs": [],
   "source": [
    "list(range(5))  # generowanie listy"
   ]
  },
  {
   "cell_type": "markdown",
   "metadata": {},
   "source": [
    "# Packing and Unpacking"
   ]
  },
  {
   "cell_type": "code",
   "execution_count": null,
   "metadata": {
    "collapsed": true
   },
   "outputs": [],
   "source": [
    "x = [(1,2),(3,4),(5,6)]  # tuple unpacking\n",
    "for a,b in x:\n",
    "    print(b)"
   ]
  },
  {
   "cell_type": "code",
   "execution_count": null,
   "metadata": {
    "collapsed": true
   },
   "outputs": [],
   "source": [
    "a,b,*c = [1,2,3,4,5]\n",
    "print(a,b,c)\n",
    "print(c)\n",
    "print(*c)\n",
    "\n",
    "first, *rest = [1,2,3,4]\n",
    "print(first, rest)\n",
    "\n",
    "first, *l, last = [1,2,3,4]\n",
    "print(first, l, last)\n",
    "\n",
    "def func(arg1, arg2, arg3='default', *, kwarg1='abc', kwarg2='xyz'):\n",
    "    pass\n",
    "\n",
    "# Such function accepts only 2 positional arguments, \n",
    "# and everything after * can only be passed as keyword argument, \n",
    "# not positional one. PEP 3102'''"
   ]
  },
  {
   "cell_type": "code",
   "execution_count": null,
   "metadata": {
    "collapsed": true
   },
   "outputs": [],
   "source": []
  }
 ],
 "metadata": {
  "kernelspec": {
   "display_name": "Python 3",
   "language": "python",
   "name": "python3"
  },
  "language_info": {
   "codemirror_mode": {
    "name": "ipython",
    "version": 3
   },
   "file_extension": ".py",
   "mimetype": "text/x-python",
   "name": "python",
   "nbconvert_exporter": "python",
   "pygments_lexer": "ipython3",
   "version": "3.4.5"
  }
 },
 "nbformat": 4,
 "nbformat_minor": 1
}
